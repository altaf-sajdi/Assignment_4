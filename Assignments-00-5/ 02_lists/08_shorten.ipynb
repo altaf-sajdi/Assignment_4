{
  "nbformat": 4,
  "nbformat_minor": 0,
  "metadata": {
    "colab": {
      "provenance": []
    },
    "kernelspec": {
      "name": "python3",
      "display_name": "Python 3"
    },
    "language_info": {
      "name": "python"
    }
  },
  "cells": [
    {
      "cell_type": "code",
      "source": [
        "MAX_LENGTH : int = 3\n",
        "\n",
        "def shorten(lst):\n",
        "    while len(lst) > MAX_LENGTH:\n",
        "        last_elem = lst.pop()\n",
        "        print(last_elem)\n",
        "\n",
        "# There is no need to edit code beyond this point\n",
        "def get_lst():\n",
        "    \"\"\"\n",
        "    Prompts the user to enter one element of the list at a time and returns the resulting list.\n",
        "    \"\"\"\n",
        "    lst = []\n",
        "    elem = input(\"Please enter an element of the list or press enter to stop. \")\n",
        "    while elem != \"\":\n",
        "        lst.append(elem)\n",
        "        elem = input(\"Please enter an element of the list or press enter to stop. \")\n",
        "    return lst\n",
        "\n",
        "def main():\n",
        "    lst = get_lst()\n",
        "    shorten(lst)\n",
        "\n",
        "if __name__ == '__main__':\n",
        "    main()\n"
      ],
      "metadata": {
        "colab": {
          "base_uri": "https://localhost:8080/"
        },
        "id": "gy932zdjUHyv",
        "outputId": "74055f11-edff-433c-b28a-223324446469"
      },
      "execution_count": 9,
      "outputs": [
        {
          "name": "stdout",
          "output_type": "stream",
          "text": [
            "Please enter an element of the list or press enter to stop. altaf hussain sajdi\n",
            "Please enter an element of the list or press enter to stop. giaic student\n",
            "Please enter an element of the list or press enter to stop. q3\n",
            "Please enter an element of the list or press enter to stop. \n"
          ]
        }
      ]
    }
  ]
}