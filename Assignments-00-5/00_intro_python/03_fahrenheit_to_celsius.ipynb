{
  "nbformat": 4,
  "nbformat_minor": 0,
  "metadata": {
    "colab": {
      "provenance": []
    },
    "kernelspec": {
      "name": "python3",
      "display_name": "Python 3"
    },
    "language_info": {
      "name": "python"
    }
  },
  "cells": [
    {
      "cell_type": "code",
      "source": [
        "\n",
        "def main():\n",
        "    fahrenheit_str = input(\"Enter temperature in Fahrenheit: \")\n",
        "    fahrenheit = float(fahrenheit_str)\n",
        "    celsius = (fahrenheit - 32) * 5.0/9.0\n",
        "    print(f\"Temperature: {fahrenheit}F = {celsius}C\")\n",
        "\n",
        "if __name__ == '__main__':\n",
        "    main()\n",
        ""
      ],
      "metadata": {
        "colab": {
          "base_uri": "https://localhost:8080/"
        },
        "id": "HLKrMnNJTtQs",
        "outputId": "0acdab37-9658-43b0-9cc2-ddaf30f95401"
      },
      "execution_count": 5,
      "outputs": [
        {
          "output_type": "stream",
          "name": "stdout",
          "text": [
            "Enter temperature in Fahrenheit: 54\n",
            "Temperature: 54.0F = 12.222222222222221C\n"
          ]
        }
      ]
    }
  ]
}