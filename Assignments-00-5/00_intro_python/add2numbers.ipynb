{
  "nbformat": 4,
  "nbformat_minor": 0,
  "metadata": {
    "colab": {
      "provenance": []
    },
    "kernelspec": {
      "name": "python3",
      "display_name": "Python 3"
    },
    "language_info": {
      "name": "python"
    }
  },
  "cells": [
    {
      "cell_type": "markdown",
      "source": [
        "Program: add2numbers\n",
        "--------------------\n",
        "A Python program that takes two integer inputs from the user\n",
        "# and calculates their sum."
      ],
      "metadata": {
        "id": "7CEnqbp8xt1n"
      }
    },
    {
      "cell_type": "code",
      "execution_count": null,
      "metadata": {
        "id": "PBwNo3jcvPLM"
      },
      "outputs": [],
      "source": [
        "def main():\n",
        "    print(\"This program adds two numbers.\")\n",
        "    num1 = int(input(\"Enter the first number: \"))\n",
        "    num2 = int(input(\"Enter the second number: \"))\n",
        "    sum = num1 + num2\n",
        "    return sum\n",
        "    main()"
      ]
    },
    {
      "cell_type": "code",
      "source": [
        "print(main())"
      ],
      "metadata": {
        "colab": {
          "base_uri": "https://localhost:8080/"
        },
        "id": "ii2xrfNtyTTv",
        "outputId": "d33b792f-7f1c-4942-f75f-ddaae2bef6fa"
      },
      "execution_count": null,
      "outputs": [
        {
          "output_type": "stream",
          "name": "stdout",
          "text": [
            "This program adds two numbers.\n",
            "Enter the first number: 5\n",
            "Enter the second number: 4\n",
            "9\n"
          ]
        }
      ]
    }
  ]
}