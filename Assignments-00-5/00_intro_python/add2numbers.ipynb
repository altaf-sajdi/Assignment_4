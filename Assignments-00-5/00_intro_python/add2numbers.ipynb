{
  "nbformat": 4,
  "nbformat_minor": 0,
  "metadata": {
    "colab": {
      "provenance": []
    },
    "kernelspec": {
      "name": "python3",
      "display_name": "Python 3"
    },
    "language_info": {
      "name": "python"
    }
  },
  "cells": [
    {
      "cell_type": "markdown",
      "source": [
        "Program: add2numbers\n",
        "--------------------\n",
        "A Python program that takes two integer inputs from the user\n",
        "# and calculates their sum."
      ],
      "metadata": {
        "id": "7CEnqbp8xt1n"
      }
    },
    {
      "cell_type": "code",
      "source": [
        "def main():\n",
        "    print(\"This program adds two numbers.\")\n",
        "    num1 = int(input(\"Enter the first number: \"))\n",
        "    num2 = int(input(\"Enter the second number: \"))\n",
        "    sum_result = num1 + num2  '\n",
        "    print(\"The sum of\", num1, \"and\", num2, \"is\", sum_result)\n",
        "    return sum_result\n",
        "\n",
        "if __name__ == '__main__':\n",
        "    main()"
      ],
      "metadata": {
        "colab": {
          "base_uri": "https://localhost:8080/"
        },
        "id": "6SVhMJedPAoL",
        "outputId": "6450b9a9-9922-4e54-cbdf-c78ff6f44b1c"
      },
      "execution_count": 14,
      "outputs": [
        {
          "output_type": "stream",
          "name": "stdout",
          "text": [
            "This program adds two numbers.\n",
            "Enter the first number: 2\n",
            "Enter the second number: 3\n",
            "The sum of 2 and 3 is 5\n"
          ]
        }
      ]
    }
  ]
}