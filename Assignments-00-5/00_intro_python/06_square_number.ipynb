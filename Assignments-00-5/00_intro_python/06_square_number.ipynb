{
  "nbformat": 4,
  "nbformat_minor": 0,
  "metadata": {
    "colab": {
      "provenance": []
    },
    "kernelspec": {
      "name": "python3",
      "display_name": "Python 3"
    },
    "language_info": {
      "name": "python"
    }
  },
  "cells": [
    {
      "cell_type": "code",
      "source": [
        "def main():\n",
        "    num: float = float(input(\"Type a number to see its square: \"))\n",
        "    print(str(num) + \" squared is \" + str(num ** 2))\n",
        "\n",
        "if __name__ == '__main__':\n",
        "    main()\n"
      ],
      "metadata": {
        "colab": {
          "base_uri": "https://localhost:8080/"
        },
        "id": "7A3FHZFuc-cm",
        "outputId": "dbd3ee6f-2c15-4c54-c928-2934ad9b7433"
      },
      "execution_count": 16,
      "outputs": [
        {
          "output_type": "stream",
          "name": "stdout",
          "text": [
            "Type a number to see its square: 54\n",
            "54.0 squared is 2916.0\n"
          ]
        }
      ]
    },
    {
      "cell_type": "code",
      "source": [],
      "metadata": {
        "id": "4B6MmK0SdlVE"
      },
      "execution_count": null,
      "outputs": []
    }
  ]
}