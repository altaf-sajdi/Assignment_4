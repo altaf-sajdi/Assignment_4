{
  "nbformat": 4,
  "nbformat_minor": 0,
  "metadata": {
    "colab": {
      "provenance": []
    },
    "kernelspec": {
      "name": "python3",
      "display_name": "Python 3"
    },
    "language_info": {
      "name": "python"
    }
  },
  "cells": [
    {
      "cell_type": "code",
      "source": [
        "def main():\n",
        "    altaf: int = 21\n",
        "    sajdi : int = 6 + altaf\n",
        "    ali: int = 20 + sajdi\n",
        "    abbas  : int= ali + altaf\n",
        "    nasir : int = ali\n",
        "   # Print out all of the ages!\n",
        "    print(\"Altaf is \" + str(altaf))\n",
        "    print(\"Sajdi is \" + str(sajdi))\n",
        "    print(\"Ali is \" + str(ali))\n",
        "    print(\"Abbas is \" + str(abbas))\n",
        "    print(\"Nasir is \" + str(nasir))\n",
        "\n",
        "if __name__ == '__main__':\n",
        "    main()\n",
        "\n"
      ],
      "metadata": {
        "colab": {
          "base_uri": "https://localhost:8080/"
        },
        "id": "HLKrMnNJTtQs",
        "outputId": "35c62f11-5930-4a6f-c458-2de71ce75299"
      },
      "execution_count": 12,
      "outputs": [
        {
          "output_type": "stream",
          "name": "stdout",
          "text": [
            "Altaf is 21\n",
            "Sajdi is 27\n",
            "Ali is 47\n",
            "Abbas is 68\n",
            "Nasir is 47\n"
          ]
        }
      ]
    }
  ]
}