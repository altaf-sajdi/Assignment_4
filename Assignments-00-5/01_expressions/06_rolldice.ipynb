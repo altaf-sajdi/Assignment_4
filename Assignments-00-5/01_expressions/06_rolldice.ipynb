{
  "nbformat": 4,
  "nbformat_minor": 0,
  "metadata": {
    "colab": {
      "provenance": []
    },
    "kernelspec": {
      "name": "python3",
      "display_name": "Python 3"
    },
    "language_info": {
      "name": "python"
    }
  },
  "cells": [
    {
      "cell_type": "code",
      "source": [
        "def main():\n",
        "    dividend: int = int(input(\"Please enter an integer to be divided: \"))\n",
        "    divisor: int = int(input(\"Please enter an integer to divide by: \"))\n",
        "\n",
        "    try:\n",
        "        quotient: int = dividend // divisor\n",
        "        remainder: int = dividend % divisor\n",
        "        print(\"The result of this division is \" + str(quotient) + \" with a remainder of \" + str(remainder))\n",
        "    except ZeroDivisionError:\n",
        "        print(\"Error: Cannot divide by zero.\")\n",
        "\n",
        "if __name__ == '__main__':\n",
        "    main()\n",
        "\n"
      ],
      "metadata": {
        "colab": {
          "base_uri": "https://localhost:8080/"
        },
        "id": "R65iJCsh0fKE",
        "outputId": "8cf70194-cffd-48ea-bef5-bb63caac30ad"
      },
      "execution_count": 18,
      "outputs": [
        {
          "output_type": "stream",
          "name": "stdout",
          "text": [
            "Please enter an integer to be divided: 525\n",
            "Please enter an integer to divide by: 45\n",
            "The result of this division is 11 with a remainder of 30\n"
          ]
        }
      ]
    }
  ]
}